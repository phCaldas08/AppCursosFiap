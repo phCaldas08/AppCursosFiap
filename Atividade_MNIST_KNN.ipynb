{
  "nbformat": 4,
  "nbformat_minor": 0,
  "metadata": {
    "colab": {
      "name": "Atividade-MNIST-KNN (1).ipynb",
      "provenance": [],
      "collapsed_sections": [],
      "include_colab_link": true
    },
    "kernelspec": {
      "display_name": "Python 3",
      "language": "python",
      "name": "python3"
    },
    "language_info": {
      "codemirror_mode": {
        "name": "ipython",
        "version": 3
      },
      "file_extension": ".py",
      "mimetype": "text/x-python",
      "name": "python",
      "nbconvert_exporter": "python",
      "pygments_lexer": "ipython3",
      "version": "3.9.2"
    }
  },
  "cells": [
    {
      "cell_type": "markdown",
      "metadata": {
        "id": "view-in-github",
        "colab_type": "text"
      },
      "source": [
        "<a href=\"https://colab.research.google.com/github/phCaldas08/AppCursosFiap/blob/master/Atividade_MNIST_KNN.ipynb\" target=\"_parent\"><img src=\"https://colab.research.google.com/assets/colab-badge.svg\" alt=\"Open In Colab\"/></a>"
      ]
    },
    {
      "cell_type": "markdown",
      "metadata": {
        "id": "b52Vnh1TnnuZ"
      },
      "source": [
        "# Atividade\n",
        "## Classificação de Dígitos com kNN\n",
        "\n",
        "Nesta atividade, o objetivo é complementar o notebook para executar o classificador kNN para a classificação de dígitos do dataset MNIST.\n",
        "\n",
        "Para tanto, precisamos baixar os arquivos de treinamento e de teste do dataset,\n",
        "além de instalar o pacote `python-mnist` que carrega esses arquivos \n",
        "\n",
        "![Exemplos de dígitos do MNIST](https://static.imasters.com.br/wp-content/uploads/2016/08/mnist.png)"
      ]
    },
    {
      "cell_type": "markdown",
      "metadata": {
        "id": "4Yv9B1Jvn1-W"
      },
      "source": [
        "## 1 - Gera a matriz de dados de entradas e o vetor de classes alvo para treinamento\n",
        "\n",
        "Cada linha da matriz de entradas (atributos) contém os pixels da  imagem.\n",
        "\n",
        "Cada posição do array de rótulos (labels) contém a classe alvo da imgem.\n",
        "\n",
        "No caso deste dataset, as imagens de trenamento e de teste já estão separadas, e vamos adotar a separação sugerida pelo autor da base de dados."
      ]
    },
    {
      "cell_type": "code",
      "metadata": {
        "colab": {
          "base_uri": "https://localhost:8080/"
        },
        "id": "35QkJDMbFYMv",
        "outputId": "1b093f4e-ba36-4330-b156-92b1663c7c9c"
      },
      "source": [
        "import time\n",
        "from keras.datasets import mnist\n",
        "\n",
        "t0 = time.time()\n",
        "\n",
        "(entradas_treino, classes_treino), (entradas_teste, classes_teste) = mnist.load_data()\n",
        "\n",
        "print(f\"Tempo para carregamento dos dados: {time.time() - t0}\")\n",
        "\n",
        "print(f\"Dimensoes da matriz de treinamento: {entradas_treino.shape}\")\n",
        "print(f\"Dimensoes da matriz de teste: {entradas_teste.shape}\")"
      ],
      "execution_count": 2,
      "outputs": [
        {
          "output_type": "stream",
          "text": [
            "Downloading data from https://storage.googleapis.com/tensorflow/tf-keras-datasets/mnist.npz\n",
            "11493376/11490434 [==============================] - 0s 0us/step\n",
            "11501568/11490434 [==============================] - 0s 0us/step\n",
            "Tempo para carregamento dos dados: 0.5374765396118164\n",
            "Dimensoes da matriz de treinamento: (60000, 28, 28)\n",
            "Dimensoes da matriz de teste: (10000, 28, 28)\n"
          ],
          "name": "stdout"
        }
      ]
    },
    {
      "cell_type": "code",
      "metadata": {
        "colab": {
          "base_uri": "https://localhost:8080/"
        },
        "id": "OgV9izpjI8NW",
        "outputId": "f9276b33-4a01-490a-e72f-4846033f9b61"
      },
      "source": [
        "shape_treino = (60000, 28 * 28)\n",
        "shape_teste = (10000, 28 * 28)\n",
        "\n",
        "entradas_treino = entradas_treino.reshape(shape_treino)\n",
        "entradas_teste = entradas_teste.reshape(shape_teste)\n",
        "\n",
        "print(f\"Novas dimensoes da matriz de treinamento: {entradas_treino.shape}\")\n",
        "print(f\"Novas dimensoes da matriz de teste: {entradas_teste.shape}\")"
      ],
      "execution_count": 3,
      "outputs": [
        {
          "output_type": "stream",
          "text": [
            "Novas dimensoes da matriz de treinamento: (60000, 784)\n",
            "Novas dimensoes da matriz de teste: (10000, 784)\n"
          ],
          "name": "stdout"
        }
      ]
    },
    {
      "cell_type": "code",
      "metadata": {
        "colab": {
          "base_uri": "https://localhost:8080/"
        },
        "id": "JdCtVhPSn2Nh",
        "tags": [],
        "outputId": "129f5f93-3c8e-4157-e83c-2b60412b8b00"
      },
      "source": [
        "import time\n",
        "import numpy as np\n",
        "\n",
        "#Transformando em array do numpy\n",
        "entradas_treino = np.array(entradas_treino)\n",
        "classes_treino = np.array(classes_treino)\n",
        "entradas_teste = np.array(entradas_teste)\n",
        "classes_teste = np.array(classes_teste)\n",
        "\n",
        "dados_reduzidos = False\n",
        "\n",
        "print(\"Dimensões da matriz dos dados de treinamento: \", entradas_treino.shape)\n",
        "print(\"Dimensões da matriz dos dados de teste: \", entradas_teste.shape)\n"
      ],
      "execution_count": 4,
      "outputs": [
        {
          "output_type": "stream",
          "text": [
            "Tempo para carregamento das imagens: 1362.5705573558807s\n",
            "Dimensões da matriz dos dados de treinamento:  (60000, 784)\n",
            "Dimensões da matriz dos dados de teste:  (10000, 784)\n"
          ],
          "name": "stdout"
        }
      ]
    },
    {
      "cell_type": "markdown",
      "metadata": {
        "id": "AyppazPcLItS"
      },
      "source": [
        "### 1.1 Visualizção de uma imagem\n",
        "\n",
        "Neste dataset cada imagem está armazenada como uma linha da matriz de entrada.\n",
        "Para visualizar a imagem que está na linha `i` da matriz, temos que convertê-la novamente em uma matriz quadrada, e usar a biblioteca `matplotlib`\n"
      ]
    },
    {
      "cell_type": "code",
      "metadata": {
        "colab": {
          "base_uri": "https://localhost:8080/",
          "height": 265
        },
        "id": "NrSiPgMxLI4y",
        "outputId": "dd240da7-2b60-45d5-b76b-bbd054ed66d2"
      },
      "source": [
        "# Função que visualiza a linha lin da matriz\n",
        "import matplotlib.pyplot as plt\n",
        "import math\n",
        "def visualiza_linha_mnist(matriz, lin):\n",
        "  size = int(math.sqrt(matriz.shape[1]))\n",
        "  img = np.reshape(matriz[lin], (size, size))\n",
        "  plt.imshow(img, cmap=\"gray\")\n",
        "  \n",
        "# Visualização da linha 0\n",
        "visualiza_linha_mnist(entradas_treino, 0)\n",
        "plt.show()"
      ],
      "execution_count": 5,
      "outputs": [
        {
          "output_type": "display_data",
          "data": {
            "image/png": "[encoded data removed]",
            "text/plain": [
              "<Figure size 432x288 with 1 Axes>"
            ]
          },
          "metadata": {
            "tags": [],
            "needs_background": "light"
          }
        }
      ]
    },
    {
      "cell_type": "markdown",
      "metadata": {
        "id": "21A9k9QVs8p_"
      },
      "source": [
        "## Início da aividade\n",
        "A partir daqui as matrizes `entradas_treino`, `classes_treino`, `entradas_teste` e `classes_teste` devem ser usadas para treinar, executar e avaliar o classificador KNN. Baseie-se no notebook `knn.ipynb`\n",
        "\n",
        "Se a execução estiver demorando muito, não se preocupe, você deve estar no caminho certo. Anote sua pontuação!\n",
        "\n",
        "## 2 - Instanciando o classificador kNN\n",
        "Usando `k` vizinhos mais próximos"
      ]
    },
    {
      "cell_type": "code",
      "metadata": {
        "colab": {
          "base_uri": "https://localhost:8080/"
        },
        "id": "wxgLsZPcMw5S",
        "outputId": "0d1138ce-20c6-45a7-e31c-c8c15416766d"
      },
      "source": [
        "from sklearn.neighbors import KNeighborsClassifier\n",
        "\n",
        "t0 = time.time()\n",
        "\n",
        "k = 3\n",
        "\n",
        "\n",
        "#Normalizacao\n",
        "entradas_treino_norm = entradas_treino.astype(float) / 255\n",
        "entradas_teste_norm = entradas_teste.astype(float) / 255\n",
        "\n",
        "#Reducao da dimensionalidade\n",
        "from sklearn.decomposition import PCA\n",
        "\n",
        "pca = PCA(0.85)\n",
        "entradas_treino_pca = pca.fit_transform(entradas_treino_norm)\n",
        "#Para o de testes usar o treinado pelo treino\n",
        "entradas_teste_pca = pca.transform(entradas_teste_norm)\n",
        "\n",
        "print(f\"Dimensoes das novas entradas de treinamento: {entradas_treino_pca.shape}\")\n",
        "print(f\"Dimensoes das novas entradas de teste: {entradas_treino_pca.shape}\")"
      ],
      "execution_count": 10,
      "outputs": [
        {
          "output_type": "stream",
          "text": [
            "Dimensoes das novas entradas de treinamento: (60000, 59)\n",
            "Dimensoes das novas entradas de teste: (60000, 59)\n"
          ],
          "name": "stdout"
        }
      ]
    },
    {
      "cell_type": "markdown",
      "metadata": {
        "id": "SbdJnWXYuupK"
      },
      "source": [
        "## 3 - Treinando o classificador com as amostras de treinamento"
      ]
    },
    {
      "cell_type": "code",
      "metadata": {
        "colab": {
          "base_uri": "https://localhost:8080/"
        },
        "id": "X-HgLmFQN3-t",
        "outputId": "35d1062b-e369-470d-f9c0-723770b8dbc5"
      },
      "source": [
        "modelo = KNeighborsClassifier(n_neighbors=k)\n",
        "modelo.fit(entradas_treino_pca, classes_treino)\n",
        "\n",
        "print(f\"Tempo para treinamento: {time.time() - t0}\")"
      ],
      "execution_count": 11,
      "outputs": [
        {
          "output_type": "stream",
          "text": [
            "Tempo para treinamento: 53.40411591529846\n"
          ],
          "name": "stdout"
        }
      ]
    },
    {
      "cell_type": "markdown",
      "metadata": {
        "id": "Tj7LWBt5XkiT"
      },
      "source": [
        "## 4 - Executando o classificador, guardando as classes obtidas"
      ]
    },
    {
      "cell_type": "code",
      "metadata": {
        "colab": {
          "base_uri": "https://localhost:8080/"
        },
        "id": "aPqZQ6lVuuv0",
        "tags": [],
        "outputId": "95cfbd6a-db4c-4e67-a042-3493e3eca4af"
      },
      "source": [
        "t0 = time.time()\n",
        "\n",
        "classes_encontradas = modelo.predict(entradas_teste_pca)\n",
        "print(f\"Tempo para executar o classificador: {time.time() - t0}\")"
      ],
      "execution_count": 12,
      "outputs": [
        {
          "output_type": "stream",
          "text": [
            "Tempo para executar o classificador: 56.09413266181946\n"
          ],
          "name": "stdout"
        }
      ]
    },
    {
      "cell_type": "markdown",
      "metadata": {
        "id": "T6896QamvEsQ"
      },
      "source": [
        "## 5 - Cálculo da acuráciacomparando os resultados esperados e obtidos"
      ]
    },
    {
      "cell_type": "code",
      "metadata": {
        "colab": {
          "base_uri": "https://localhost:8080/"
        },
        "id": "avNxBL3HTmb3",
        "outputId": "2d1933e8-6e53-4c75-a0e9-4eff5d45ad11"
      },
      "source": [
        "from sklearn.metrics import accuracy_score\n",
        "acertos = accuracy_score(classes_teste, classes_encontradas)\n",
        "\n",
        "print(f\"Acerto médio de classificacão: {acertos}\")"
      ],
      "execution_count": 13,
      "outputs": [
        {
          "output_type": "stream",
          "text": [
            "Acerto médio de classificacão: 0.9752\n"
          ],
          "name": "stdout"
        }
      ]
    }
  ]
}